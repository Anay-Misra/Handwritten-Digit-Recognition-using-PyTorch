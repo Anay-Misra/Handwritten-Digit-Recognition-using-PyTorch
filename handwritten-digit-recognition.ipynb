{
 "cells": [
  {
   "cell_type": "code",
   "execution_count": 1,
   "metadata": {},
   "outputs": [],
   "source": [
    "from torchvision import datasets\n",
    "from torchvision.transforms import ToTensor"
   ]
  },
  {
   "cell_type": "code",
   "execution_count": 2,
   "metadata": {},
   "outputs": [
    {
     "name": "stdout",
     "output_type": "stream",
     "text": [
      "Downloading http://yann.lecun.com/exdb/mnist/train-images-idx3-ubyte.gz\n",
      "Failed to download (trying next):\n",
      "HTTP Error 403: Forbidden\n",
      "\n",
      "Downloading https://ossci-datasets.s3.amazonaws.com/mnist/train-images-idx3-ubyte.gz\n",
      "Downloading https://ossci-datasets.s3.amazonaws.com/mnist/train-images-idx3-ubyte.gz to data\\MNIST\\raw\\train-images-idx3-ubyte.gz\n"
     ]
    },
    {
     "name": "stderr",
     "output_type": "stream",
     "text": [
      "100%|██████████| 9912422/9912422 [00:11<00:00, 850079.85it/s] \n"
     ]
    },
    {
     "name": "stdout",
     "output_type": "stream",
     "text": [
      "Extracting data\\MNIST\\raw\\train-images-idx3-ubyte.gz to data\\MNIST\\raw\n",
      "\n",
      "Downloading http://yann.lecun.com/exdb/mnist/train-labels-idx1-ubyte.gz\n",
      "Failed to download (trying next):\n",
      "HTTP Error 403: Forbidden\n",
      "\n",
      "Downloading https://ossci-datasets.s3.amazonaws.com/mnist/train-labels-idx1-ubyte.gz\n",
      "Downloading https://ossci-datasets.s3.amazonaws.com/mnist/train-labels-idx1-ubyte.gz to data\\MNIST\\raw\\train-labels-idx1-ubyte.gz\n"
     ]
    },
    {
     "name": "stderr",
     "output_type": "stream",
     "text": [
      "100%|██████████| 28881/28881 [00:00<00:00, 100483.68it/s]\n"
     ]
    },
    {
     "name": "stdout",
     "output_type": "stream",
     "text": [
      "Extracting data\\MNIST\\raw\\train-labels-idx1-ubyte.gz to data\\MNIST\\raw\n",
      "\n",
      "Downloading http://yann.lecun.com/exdb/mnist/t10k-images-idx3-ubyte.gz\n",
      "Failed to download (trying next):\n",
      "HTTP Error 403: Forbidden\n",
      "\n",
      "Downloading https://ossci-datasets.s3.amazonaws.com/mnist/t10k-images-idx3-ubyte.gz\n",
      "Downloading https://ossci-datasets.s3.amazonaws.com/mnist/t10k-images-idx3-ubyte.gz to data\\MNIST\\raw\\t10k-images-idx3-ubyte.gz\n"
     ]
    },
    {
     "name": "stderr",
     "output_type": "stream",
     "text": [
      "100%|██████████| 1648877/1648877 [00:01<00:00, 992686.84it/s] \n"
     ]
    },
    {
     "name": "stdout",
     "output_type": "stream",
     "text": [
      "Extracting data\\MNIST\\raw\\t10k-images-idx3-ubyte.gz to data\\MNIST\\raw\n",
      "\n",
      "Downloading http://yann.lecun.com/exdb/mnist/t10k-labels-idx1-ubyte.gz\n",
      "Failed to download (trying next):\n",
      "HTTP Error 403: Forbidden\n",
      "\n",
      "Downloading https://ossci-datasets.s3.amazonaws.com/mnist/t10k-labels-idx1-ubyte.gz\n",
      "Downloading https://ossci-datasets.s3.amazonaws.com/mnist/t10k-labels-idx1-ubyte.gz to data\\MNIST\\raw\\t10k-labels-idx1-ubyte.gz\n"
     ]
    },
    {
     "name": "stderr",
     "output_type": "stream",
     "text": [
      "100%|██████████| 4542/4542 [00:00<00:00, 2271977.19it/s]"
     ]
    },
    {
     "name": "stdout",
     "output_type": "stream",
     "text": [
      "Extracting data\\MNIST\\raw\\t10k-labels-idx1-ubyte.gz to data\\MNIST\\raw\n",
      "\n"
     ]
    },
    {
     "name": "stderr",
     "output_type": "stream",
     "text": [
      "\n"
     ]
    }
   ],
   "source": [
    "train_data = datasets.MNIST(\n",
    "    root  = 'data',\n",
    "    train= True,\n",
    "    transform= ToTensor(),\n",
    "    download = True\n",
    ")\n"
   ]
  },
  {
   "cell_type": "code",
   "execution_count": 4,
   "metadata": {},
   "outputs": [],
   "source": [
    "test_data = datasets.MNIST(\n",
    "    root  = 'data',\n",
    "    train = False,\n",
    "    transform = ToTensor(),\n",
    "    download = True\n",
    ")"
   ]
  },
  {
   "cell_type": "code",
   "execution_count": 5,
   "metadata": {},
   "outputs": [
    {
     "data": {
      "text/plain": [
       "Dataset MNIST\n",
       "    Number of datapoints: 60000\n",
       "    Root location: data\n",
       "    Split: Train\n",
       "    StandardTransform\n",
       "Transform: ToTensor()"
      ]
     },
     "execution_count": 5,
     "metadata": {},
     "output_type": "execute_result"
    }
   ],
   "source": [
    "train_data"
   ]
  },
  {
   "cell_type": "code",
   "execution_count": 6,
   "metadata": {},
   "outputs": [
    {
     "data": {
      "text/plain": [
       "Dataset MNIST\n",
       "    Number of datapoints: 10000\n",
       "    Root location: data\n",
       "    Split: Test\n",
       "    StandardTransform\n",
       "Transform: ToTensor()"
      ]
     },
     "execution_count": 6,
     "metadata": {},
     "output_type": "execute_result"
    }
   ],
   "source": [
    "test_data"
   ]
  },
  {
   "cell_type": "code",
   "execution_count": 8,
   "metadata": {},
   "outputs": [
    {
     "data": {
      "text/plain": [
       "torch.Size([60000, 28, 28])"
      ]
     },
     "execution_count": 8,
     "metadata": {},
     "output_type": "execute_result"
    }
   ],
   "source": [
    "train_data.data.shape"
   ]
  },
  {
   "cell_type": "code",
   "execution_count": 9,
   "metadata": {},
   "outputs": [
    {
     "data": {
      "text/plain": [
       "torch.Size([10000, 28, 28])"
      ]
     },
     "execution_count": 9,
     "metadata": {},
     "output_type": "execute_result"
    }
   ],
   "source": [
    "test_data.data.size()"
   ]
  },
  {
   "cell_type": "code",
   "execution_count": 10,
   "metadata": {},
   "outputs": [
    {
     "data": {
      "text/plain": [
       "tensor([5, 0, 4,  ..., 5, 6, 8])"
      ]
     },
     "execution_count": 10,
     "metadata": {},
     "output_type": "execute_result"
    }
   ],
   "source": [
    "train_data.targets"
   ]
  },
  {
   "cell_type": "code",
   "execution_count": 11,
   "metadata": {},
   "outputs": [],
   "source": [
    "from torch.utils.data import DataLoader\n",
    "\n",
    "loaders = {\n",
    "    'train': DataLoader(train_data,\n",
    "                        batch_size = 100,\n",
    "                        shuffle = True,\n",
    "                        num_workers =1),\n",
    "    'test': DataLoader(test_data,\n",
    "                        batch_size = 100,\n",
    "                        shuffle = True,\n",
    "                        num_workers =1),\n",
    "}\n"
   ]
  },
  {
   "cell_type": "code",
   "execution_count": 19,
   "metadata": {},
   "outputs": [],
   "source": [
    "import torch.nn as nn\n",
    "import torch.nn.functional as F\n",
    "import torch.optim as optim\n",
    "\n",
    "class CNN(nn.Module):\n",
    "    def __init__(self):\n",
    "        super(CNN, self).__init__()\n",
    "        self.conv1 = nn.Conv2d(1, 10, kernel_size=5)\n",
    "        self.conv2 = nn.Conv2d(10, 20, kernel_size=5)\n",
    "        self.conv2_drop = nn.Dropout2d() #Deactivates nuerons during training to avoid overfitting\n",
    "        self.fc1 = nn.Linear(320, 50)\n",
    "        self.fc2 = nn.Linear(50, 10)\n",
    "\n",
    "    def forward(self, x):\n",
    "        x = F.relu(F.max_pool2d(self.conv1(x), 2))\n",
    "        x = F.relu(F.max_pool2d(self.conv2_drop(self.conv2(x)),2))\n",
    "        x = x.view(x.size(0), -1)\n",
    "        x = F.relu(self.fc1(x))\n",
    "        x = F.dropout(x, training=self.training)\n",
    "        x = self.fc2(x)\n",
    "\n",
    "        return F.softmax(x)\n"
   ]
  },
  {
   "cell_type": "code",
   "execution_count": 24,
   "metadata": {},
   "outputs": [],
   "source": [
    "import torch \n",
    "\n",
    "device = torch.device('cuda' if torch.cuda.is_available() else 'cpu')\n",
    "\n",
    "model = CNN()\n",
    "model.to(device)\n",
    "\n",
    "optimizer = optim.Adam(model.parameters(), lr = 0.001)\n",
    "\n",
    "loss_fn = nn.CrossEntropyLoss()\n",
    "\n",
    "def train(epoch):\n",
    "    model.train()\n",
    "    for batch_idx, (data, target) in enumerate(loaders['train']):\n",
    "        data, target = data.to(device), target.to(device)\n",
    "        optimizer.zero_grad()\n",
    "        output = model(data)\n",
    "        loss = loss_fn(output, target)\n",
    "        loss.backward()\n",
    "        optimizer.step()\n",
    "        if batch_idx % 20 == 0:\n",
    "            print(f\"Train Epoch: {epoch} [{batch_idx * len(data)}/{len(loaders['train'].dataset)} ({100. * batch_idx / len(loaders['train']):.0f}%)]\\tLoss: {loss.item():.6f}\")\n",
    "        \n",
    "\n",
    "def test():\n",
    "    model.eval()\n",
    "\n",
    "    test_loss = 0\n",
    "    correct = 0\n",
    "\n",
    "    with torch.no_grad():\n",
    "        for data, target in loaders['test']:\n",
    "            data, target = data.to(device), target.to(device)\n",
    "            output = model(data)\n",
    "            test_loss += loss_fn(output, target).item()\n",
    "            pred = output.argmax(dim=1, keepdim=True)\n",
    "            correct += pred.eq(target.view_as(pred)).sum().item()\n",
    "\n",
    "        test_loss /= len(loaders['test'].dataset)\n",
    "        print(f\"\\nTest set: Average loss: {test_loss:.4f}, Accuracy {correct}/{len(loaders['test'].dataset)} ({100. * correct / len(loaders['test'].dataset):.0f}%\\n)\")\n"
   ]
  },
  {
   "cell_type": "code",
   "execution_count": 25,
   "metadata": {},
   "outputs": [
    {
     "name": "stderr",
     "output_type": "stream",
     "text": [
      "C:\\Users\\Anay\\AppData\\Local\\Temp\\ipykernel_7428\\785090135.py:22: UserWarning: Implicit dimension choice for softmax has been deprecated. Change the call to include dim=X as an argument.\n",
      "  return F.softmax(x)\n"
     ]
    },
    {
     "name": "stdout",
     "output_type": "stream",
     "text": [
      "Train Epoch: 1 [0/60000 (0%)]\tLoss: 2.302557\n",
      "Train Epoch: 1 [2000/60000 (3%)]\tLoss: 2.297173\n",
      "Train Epoch: 1 [4000/60000 (7%)]\tLoss: 2.219798\n",
      "Train Epoch: 1 [6000/60000 (10%)]\tLoss: 2.003188\n",
      "Train Epoch: 1 [8000/60000 (13%)]\tLoss: 1.934710\n",
      "Train Epoch: 1 [10000/60000 (17%)]\tLoss: 1.882116\n",
      "Train Epoch: 1 [12000/60000 (20%)]\tLoss: 1.984648\n",
      "Train Epoch: 1 [14000/60000 (23%)]\tLoss: 1.898552\n",
      "Train Epoch: 1 [16000/60000 (27%)]\tLoss: 1.843505\n",
      "Train Epoch: 1 [18000/60000 (30%)]\tLoss: 1.804495\n",
      "Train Epoch: 1 [20000/60000 (33%)]\tLoss: 1.766645\n",
      "Train Epoch: 1 [22000/60000 (37%)]\tLoss: 1.756980\n",
      "Train Epoch: 1 [24000/60000 (40%)]\tLoss: 1.711596\n",
      "Train Epoch: 1 [26000/60000 (43%)]\tLoss: 1.733496\n",
      "Train Epoch: 1 [28000/60000 (47%)]\tLoss: 1.707345\n",
      "Train Epoch: 1 [30000/60000 (50%)]\tLoss: 1.704952\n",
      "Train Epoch: 1 [32000/60000 (53%)]\tLoss: 1.643382\n",
      "Train Epoch: 1 [34000/60000 (57%)]\tLoss: 1.634641\n",
      "Train Epoch: 1 [36000/60000 (60%)]\tLoss: 1.632344\n",
      "Train Epoch: 1 [38000/60000 (63%)]\tLoss: 1.623790\n",
      "Train Epoch: 1 [40000/60000 (67%)]\tLoss: 1.602085\n",
      "Train Epoch: 1 [42000/60000 (70%)]\tLoss: 1.563634\n",
      "Train Epoch: 1 [44000/60000 (73%)]\tLoss: 1.645659\n",
      "Train Epoch: 1 [46000/60000 (77%)]\tLoss: 1.621173\n",
      "Train Epoch: 1 [48000/60000 (80%)]\tLoss: 1.623078\n",
      "Train Epoch: 1 [50000/60000 (83%)]\tLoss: 1.654034\n",
      "Train Epoch: 1 [52000/60000 (87%)]\tLoss: 1.634523\n",
      "Train Epoch: 1 [54000/60000 (90%)]\tLoss: 1.592440\n",
      "Train Epoch: 1 [56000/60000 (93%)]\tLoss: 1.577818\n",
      "Train Epoch: 1 [58000/60000 (97%)]\tLoss: 1.571373\n",
      "\n",
      "Test set: Average loss: 0.0152, Accuracy 9369/10000 (94%\n",
      ")\n",
      "Train Epoch: 2 [0/60000 (0%)]\tLoss: 1.622717\n",
      "Train Epoch: 2 [2000/60000 (3%)]\tLoss: 1.598436\n",
      "Train Epoch: 2 [4000/60000 (7%)]\tLoss: 1.572807\n",
      "Train Epoch: 2 [6000/60000 (10%)]\tLoss: 1.556267\n",
      "Train Epoch: 2 [8000/60000 (13%)]\tLoss: 1.594571\n",
      "Train Epoch: 2 [10000/60000 (17%)]\tLoss: 1.567739\n",
      "Train Epoch: 2 [12000/60000 (20%)]\tLoss: 1.587272\n",
      "Train Epoch: 2 [14000/60000 (23%)]\tLoss: 1.586671\n",
      "Train Epoch: 2 [16000/60000 (27%)]\tLoss: 1.534313\n",
      "Train Epoch: 2 [18000/60000 (30%)]\tLoss: 1.656623\n",
      "Train Epoch: 2 [20000/60000 (33%)]\tLoss: 1.633988\n",
      "Train Epoch: 2 [22000/60000 (37%)]\tLoss: 1.623184\n",
      "Train Epoch: 2 [24000/60000 (40%)]\tLoss: 1.583486\n",
      "Train Epoch: 2 [26000/60000 (43%)]\tLoss: 1.595115\n",
      "Train Epoch: 2 [28000/60000 (47%)]\tLoss: 1.619943\n",
      "Train Epoch: 2 [30000/60000 (50%)]\tLoss: 1.577666\n",
      "Train Epoch: 2 [32000/60000 (53%)]\tLoss: 1.529857\n",
      "Train Epoch: 2 [34000/60000 (57%)]\tLoss: 1.635896\n",
      "Train Epoch: 2 [36000/60000 (60%)]\tLoss: 1.555819\n",
      "Train Epoch: 2 [38000/60000 (63%)]\tLoss: 1.571444\n",
      "Train Epoch: 2 [40000/60000 (67%)]\tLoss: 1.577314\n",
      "Train Epoch: 2 [42000/60000 (70%)]\tLoss: 1.598054\n",
      "Train Epoch: 2 [44000/60000 (73%)]\tLoss: 1.597588\n",
      "Train Epoch: 2 [46000/60000 (77%)]\tLoss: 1.584172\n",
      "Train Epoch: 2 [48000/60000 (80%)]\tLoss: 1.591245\n",
      "Train Epoch: 2 [50000/60000 (83%)]\tLoss: 1.529516\n",
      "Train Epoch: 2 [52000/60000 (87%)]\tLoss: 1.566110\n",
      "Train Epoch: 2 [54000/60000 (90%)]\tLoss: 1.605470\n",
      "Train Epoch: 2 [56000/60000 (93%)]\tLoss: 1.634219\n",
      "Train Epoch: 2 [58000/60000 (97%)]\tLoss: 1.624706\n",
      "\n",
      "Test set: Average loss: 0.0151, Accuracy 9501/10000 (95%\n",
      ")\n",
      "Train Epoch: 3 [0/60000 (0%)]\tLoss: 1.548179\n",
      "Train Epoch: 3 [2000/60000 (3%)]\tLoss: 1.592353\n",
      "Train Epoch: 3 [4000/60000 (7%)]\tLoss: 1.524346\n",
      "Train Epoch: 3 [6000/60000 (10%)]\tLoss: 1.550111\n",
      "Train Epoch: 3 [8000/60000 (13%)]\tLoss: 1.552484\n",
      "Train Epoch: 3 [10000/60000 (17%)]\tLoss: 1.553327\n",
      "Train Epoch: 3 [12000/60000 (20%)]\tLoss: 1.543577\n",
      "Train Epoch: 3 [14000/60000 (23%)]\tLoss: 1.556181\n",
      "Train Epoch: 3 [16000/60000 (27%)]\tLoss: 1.567741\n",
      "Train Epoch: 3 [18000/60000 (30%)]\tLoss: 1.613426\n",
      "Train Epoch: 3 [20000/60000 (33%)]\tLoss: 1.555098\n",
      "Train Epoch: 3 [22000/60000 (37%)]\tLoss: 1.570710\n",
      "Train Epoch: 3 [24000/60000 (40%)]\tLoss: 1.584389\n",
      "Train Epoch: 3 [26000/60000 (43%)]\tLoss: 1.531796\n",
      "Train Epoch: 3 [28000/60000 (47%)]\tLoss: 1.517412\n",
      "Train Epoch: 3 [30000/60000 (50%)]\tLoss: 1.584690\n",
      "Train Epoch: 3 [32000/60000 (53%)]\tLoss: 1.548410\n",
      "Train Epoch: 3 [34000/60000 (57%)]\tLoss: 1.544299\n",
      "Train Epoch: 3 [36000/60000 (60%)]\tLoss: 1.536372\n",
      "Train Epoch: 3 [38000/60000 (63%)]\tLoss: 1.583998\n",
      "Train Epoch: 3 [40000/60000 (67%)]\tLoss: 1.539574\n",
      "Train Epoch: 3 [42000/60000 (70%)]\tLoss: 1.574760\n",
      "Train Epoch: 3 [44000/60000 (73%)]\tLoss: 1.585585\n",
      "Train Epoch: 3 [46000/60000 (77%)]\tLoss: 1.525781\n",
      "Train Epoch: 3 [48000/60000 (80%)]\tLoss: 1.533810\n",
      "Train Epoch: 3 [50000/60000 (83%)]\tLoss: 1.528418\n",
      "Train Epoch: 3 [52000/60000 (87%)]\tLoss: 1.524768\n",
      "Train Epoch: 3 [54000/60000 (90%)]\tLoss: 1.531840\n",
      "Train Epoch: 3 [56000/60000 (93%)]\tLoss: 1.554217\n",
      "Train Epoch: 3 [58000/60000 (97%)]\tLoss: 1.570232\n",
      "\n",
      "Test set: Average loss: 0.0150, Accuracy 9607/10000 (96%\n",
      ")\n",
      "Train Epoch: 4 [0/60000 (0%)]\tLoss: 1.559569\n",
      "Train Epoch: 4 [2000/60000 (3%)]\tLoss: 1.523029\n",
      "Train Epoch: 4 [4000/60000 (7%)]\tLoss: 1.563030\n",
      "Train Epoch: 4 [6000/60000 (10%)]\tLoss: 1.585637\n",
      "Train Epoch: 4 [8000/60000 (13%)]\tLoss: 1.535738\n",
      "Train Epoch: 4 [10000/60000 (17%)]\tLoss: 1.531524\n",
      "Train Epoch: 4 [12000/60000 (20%)]\tLoss: 1.525870\n",
      "Train Epoch: 4 [14000/60000 (23%)]\tLoss: 1.512028\n",
      "Train Epoch: 4 [16000/60000 (27%)]\tLoss: 1.565955\n",
      "Train Epoch: 4 [18000/60000 (30%)]\tLoss: 1.528089\n",
      "Train Epoch: 4 [20000/60000 (33%)]\tLoss: 1.575807\n",
      "Train Epoch: 4 [22000/60000 (37%)]\tLoss: 1.565234\n",
      "Train Epoch: 4 [24000/60000 (40%)]\tLoss: 1.556846\n",
      "Train Epoch: 4 [26000/60000 (43%)]\tLoss: 1.557533\n",
      "Train Epoch: 4 [28000/60000 (47%)]\tLoss: 1.558805\n",
      "Train Epoch: 4 [30000/60000 (50%)]\tLoss: 1.553709\n",
      "Train Epoch: 4 [32000/60000 (53%)]\tLoss: 1.588901\n",
      "Train Epoch: 4 [34000/60000 (57%)]\tLoss: 1.584949\n",
      "Train Epoch: 4 [36000/60000 (60%)]\tLoss: 1.539401\n",
      "Train Epoch: 4 [38000/60000 (63%)]\tLoss: 1.518067\n",
      "Train Epoch: 4 [40000/60000 (67%)]\tLoss: 1.570333\n",
      "Train Epoch: 4 [42000/60000 (70%)]\tLoss: 1.575356\n",
      "Train Epoch: 4 [44000/60000 (73%)]\tLoss: 1.555601\n",
      "Train Epoch: 4 [46000/60000 (77%)]\tLoss: 1.550901\n",
      "Train Epoch: 4 [48000/60000 (80%)]\tLoss: 1.532411\n",
      "Train Epoch: 4 [50000/60000 (83%)]\tLoss: 1.576601\n",
      "Train Epoch: 4 [52000/60000 (87%)]\tLoss: 1.543780\n",
      "Train Epoch: 4 [54000/60000 (90%)]\tLoss: 1.553165\n",
      "Train Epoch: 4 [56000/60000 (93%)]\tLoss: 1.590397\n",
      "Train Epoch: 4 [58000/60000 (97%)]\tLoss: 1.574481\n",
      "\n",
      "Test set: Average loss: 0.0150, Accuracy 9651/10000 (97%\n",
      ")\n",
      "Train Epoch: 5 [0/60000 (0%)]\tLoss: 1.567585\n",
      "Train Epoch: 5 [2000/60000 (3%)]\tLoss: 1.534941\n",
      "Train Epoch: 5 [4000/60000 (7%)]\tLoss: 1.533218\n",
      "Train Epoch: 5 [6000/60000 (10%)]\tLoss: 1.582001\n",
      "Train Epoch: 5 [8000/60000 (13%)]\tLoss: 1.525228\n",
      "Train Epoch: 5 [10000/60000 (17%)]\tLoss: 1.505557\n",
      "Train Epoch: 5 [12000/60000 (20%)]\tLoss: 1.547471\n",
      "Train Epoch: 5 [14000/60000 (23%)]\tLoss: 1.549045\n",
      "Train Epoch: 5 [16000/60000 (27%)]\tLoss: 1.568698\n",
      "Train Epoch: 5 [18000/60000 (30%)]\tLoss: 1.558975\n",
      "Train Epoch: 5 [20000/60000 (33%)]\tLoss: 1.574663\n",
      "Train Epoch: 5 [22000/60000 (37%)]\tLoss: 1.505274\n",
      "Train Epoch: 5 [24000/60000 (40%)]\tLoss: 1.567174\n",
      "Train Epoch: 5 [26000/60000 (43%)]\tLoss: 1.512730\n",
      "Train Epoch: 5 [28000/60000 (47%)]\tLoss: 1.512017\n",
      "Train Epoch: 5 [30000/60000 (50%)]\tLoss: 1.505529\n",
      "Train Epoch: 5 [32000/60000 (53%)]\tLoss: 1.552190\n",
      "Train Epoch: 5 [34000/60000 (57%)]\tLoss: 1.519710\n",
      "Train Epoch: 5 [36000/60000 (60%)]\tLoss: 1.544528\n",
      "Train Epoch: 5 [38000/60000 (63%)]\tLoss: 1.553939\n",
      "Train Epoch: 5 [40000/60000 (67%)]\tLoss: 1.571440\n",
      "Train Epoch: 5 [42000/60000 (70%)]\tLoss: 1.553257\n",
      "Train Epoch: 5 [44000/60000 (73%)]\tLoss: 1.542429\n",
      "Train Epoch: 5 [46000/60000 (77%)]\tLoss: 1.524958\n",
      "Train Epoch: 5 [48000/60000 (80%)]\tLoss: 1.527590\n",
      "Train Epoch: 5 [50000/60000 (83%)]\tLoss: 1.510694\n",
      "Train Epoch: 5 [52000/60000 (87%)]\tLoss: 1.614901\n",
      "Train Epoch: 5 [54000/60000 (90%)]\tLoss: 1.570699\n",
      "Train Epoch: 5 [56000/60000 (93%)]\tLoss: 1.518474\n",
      "Train Epoch: 5 [58000/60000 (97%)]\tLoss: 1.511348\n",
      "\n",
      "Test set: Average loss: 0.0149, Accuracy 9673/10000 (97%\n",
      ")\n",
      "Train Epoch: 6 [0/60000 (0%)]\tLoss: 1.581064\n",
      "Train Epoch: 6 [2000/60000 (3%)]\tLoss: 1.571867\n",
      "Train Epoch: 6 [4000/60000 (7%)]\tLoss: 1.479585\n",
      "Train Epoch: 6 [6000/60000 (10%)]\tLoss: 1.507322\n",
      "Train Epoch: 6 [8000/60000 (13%)]\tLoss: 1.503072\n",
      "Train Epoch: 6 [10000/60000 (17%)]\tLoss: 1.552065\n",
      "Train Epoch: 6 [12000/60000 (20%)]\tLoss: 1.517429\n",
      "Train Epoch: 6 [14000/60000 (23%)]\tLoss: 1.514856\n",
      "Train Epoch: 6 [16000/60000 (27%)]\tLoss: 1.548716\n",
      "Train Epoch: 6 [18000/60000 (30%)]\tLoss: 1.546742\n",
      "Train Epoch: 6 [20000/60000 (33%)]\tLoss: 1.567606\n",
      "Train Epoch: 6 [22000/60000 (37%)]\tLoss: 1.516451\n",
      "Train Epoch: 6 [24000/60000 (40%)]\tLoss: 1.517794\n",
      "Train Epoch: 6 [26000/60000 (43%)]\tLoss: 1.506904\n",
      "Train Epoch: 6 [28000/60000 (47%)]\tLoss: 1.536042\n",
      "Train Epoch: 6 [30000/60000 (50%)]\tLoss: 1.581588\n",
      "Train Epoch: 6 [32000/60000 (53%)]\tLoss: 1.553715\n",
      "Train Epoch: 6 [34000/60000 (57%)]\tLoss: 1.592882\n",
      "Train Epoch: 6 [36000/60000 (60%)]\tLoss: 1.515565\n",
      "Train Epoch: 6 [38000/60000 (63%)]\tLoss: 1.518386\n",
      "Train Epoch: 6 [40000/60000 (67%)]\tLoss: 1.536940\n",
      "Train Epoch: 6 [42000/60000 (70%)]\tLoss: 1.517774\n",
      "Train Epoch: 6 [44000/60000 (73%)]\tLoss: 1.529298\n",
      "Train Epoch: 6 [46000/60000 (77%)]\tLoss: 1.507888\n",
      "Train Epoch: 6 [48000/60000 (80%)]\tLoss: 1.491598\n",
      "Train Epoch: 6 [50000/60000 (83%)]\tLoss: 1.550733\n",
      "Train Epoch: 6 [52000/60000 (87%)]\tLoss: 1.554588\n",
      "Train Epoch: 6 [54000/60000 (90%)]\tLoss: 1.525370\n",
      "Train Epoch: 6 [56000/60000 (93%)]\tLoss: 1.523450\n",
      "Train Epoch: 6 [58000/60000 (97%)]\tLoss: 1.565971\n",
      "\n",
      "Test set: Average loss: 0.0149, Accuracy 9708/10000 (97%\n",
      ")\n",
      "Train Epoch: 7 [0/60000 (0%)]\tLoss: 1.505072\n",
      "Train Epoch: 7 [2000/60000 (3%)]\tLoss: 1.560097\n",
      "Train Epoch: 7 [4000/60000 (7%)]\tLoss: 1.543271\n",
      "Train Epoch: 7 [6000/60000 (10%)]\tLoss: 1.524598\n",
      "Train Epoch: 7 [8000/60000 (13%)]\tLoss: 1.546497\n",
      "Train Epoch: 7 [10000/60000 (17%)]\tLoss: 1.531141\n",
      "Train Epoch: 7 [12000/60000 (20%)]\tLoss: 1.507003\n",
      "Train Epoch: 7 [14000/60000 (23%)]\tLoss: 1.542767\n",
      "Train Epoch: 7 [16000/60000 (27%)]\tLoss: 1.536320\n",
      "Train Epoch: 7 [18000/60000 (30%)]\tLoss: 1.533291\n",
      "Train Epoch: 7 [20000/60000 (33%)]\tLoss: 1.535864\n",
      "Train Epoch: 7 [22000/60000 (37%)]\tLoss: 1.518762\n",
      "Train Epoch: 7 [24000/60000 (40%)]\tLoss: 1.545679\n",
      "Train Epoch: 7 [26000/60000 (43%)]\tLoss: 1.490541\n",
      "Train Epoch: 7 [28000/60000 (47%)]\tLoss: 1.537142\n",
      "Train Epoch: 7 [30000/60000 (50%)]\tLoss: 1.507452\n",
      "Train Epoch: 7 [32000/60000 (53%)]\tLoss: 1.511553\n",
      "Train Epoch: 7 [34000/60000 (57%)]\tLoss: 1.538505\n",
      "Train Epoch: 7 [36000/60000 (60%)]\tLoss: 1.565500\n",
      "Train Epoch: 7 [38000/60000 (63%)]\tLoss: 1.548720\n",
      "Train Epoch: 7 [40000/60000 (67%)]\tLoss: 1.542022\n",
      "Train Epoch: 7 [42000/60000 (70%)]\tLoss: 1.582629\n",
      "Train Epoch: 7 [44000/60000 (73%)]\tLoss: 1.568897\n",
      "Train Epoch: 7 [46000/60000 (77%)]\tLoss: 1.551203\n",
      "Train Epoch: 7 [48000/60000 (80%)]\tLoss: 1.515411\n",
      "Train Epoch: 7 [50000/60000 (83%)]\tLoss: 1.493340\n",
      "Train Epoch: 7 [52000/60000 (87%)]\tLoss: 1.510143\n",
      "Train Epoch: 7 [54000/60000 (90%)]\tLoss: 1.563101\n",
      "Train Epoch: 7 [56000/60000 (93%)]\tLoss: 1.570451\n",
      "Train Epoch: 7 [58000/60000 (97%)]\tLoss: 1.523397\n",
      "\n",
      "Test set: Average loss: 0.0149, Accuracy 9697/10000 (97%\n",
      ")\n",
      "Train Epoch: 8 [0/60000 (0%)]\tLoss: 1.556517\n",
      "Train Epoch: 8 [2000/60000 (3%)]\tLoss: 1.531217\n",
      "Train Epoch: 8 [4000/60000 (7%)]\tLoss: 1.491866\n",
      "Train Epoch: 8 [6000/60000 (10%)]\tLoss: 1.487571\n",
      "Train Epoch: 8 [8000/60000 (13%)]\tLoss: 1.501227\n",
      "Train Epoch: 8 [10000/60000 (17%)]\tLoss: 1.535798\n",
      "Train Epoch: 8 [12000/60000 (20%)]\tLoss: 1.527100\n",
      "Train Epoch: 8 [14000/60000 (23%)]\tLoss: 1.530917\n",
      "Train Epoch: 8 [16000/60000 (27%)]\tLoss: 1.561040\n",
      "Train Epoch: 8 [18000/60000 (30%)]\tLoss: 1.528515\n",
      "Train Epoch: 8 [20000/60000 (33%)]\tLoss: 1.529355\n",
      "Train Epoch: 8 [22000/60000 (37%)]\tLoss: 1.495038\n",
      "Train Epoch: 8 [24000/60000 (40%)]\tLoss: 1.556164\n",
      "Train Epoch: 8 [26000/60000 (43%)]\tLoss: 1.543229\n",
      "Train Epoch: 8 [28000/60000 (47%)]\tLoss: 1.535892\n",
      "Train Epoch: 8 [30000/60000 (50%)]\tLoss: 1.538423\n",
      "Train Epoch: 8 [32000/60000 (53%)]\tLoss: 1.533412\n",
      "Train Epoch: 8 [34000/60000 (57%)]\tLoss: 1.515260\n",
      "Train Epoch: 8 [36000/60000 (60%)]\tLoss: 1.534211\n",
      "Train Epoch: 8 [38000/60000 (63%)]\tLoss: 1.546782\n",
      "Train Epoch: 8 [40000/60000 (67%)]\tLoss: 1.515821\n",
      "Train Epoch: 8 [42000/60000 (70%)]\tLoss: 1.565657\n",
      "Train Epoch: 8 [44000/60000 (73%)]\tLoss: 1.564187\n",
      "Train Epoch: 8 [46000/60000 (77%)]\tLoss: 1.552616\n",
      "Train Epoch: 8 [48000/60000 (80%)]\tLoss: 1.494967\n",
      "Train Epoch: 8 [50000/60000 (83%)]\tLoss: 1.509464\n",
      "Train Epoch: 8 [52000/60000 (87%)]\tLoss: 1.501041\n",
      "Train Epoch: 8 [54000/60000 (90%)]\tLoss: 1.509435\n",
      "Train Epoch: 8 [56000/60000 (93%)]\tLoss: 1.521826\n",
      "Train Epoch: 8 [58000/60000 (97%)]\tLoss: 1.513070\n",
      "\n",
      "Test set: Average loss: 0.0149, Accuracy 9728/10000 (97%\n",
      ")\n",
      "Train Epoch: 9 [0/60000 (0%)]\tLoss: 1.548830\n",
      "Train Epoch: 9 [2000/60000 (3%)]\tLoss: 1.512179\n",
      "Train Epoch: 9 [4000/60000 (7%)]\tLoss: 1.536747\n",
      "Train Epoch: 9 [6000/60000 (10%)]\tLoss: 1.524858\n",
      "Train Epoch: 9 [8000/60000 (13%)]\tLoss: 1.561646\n",
      "Train Epoch: 9 [10000/60000 (17%)]\tLoss: 1.499575\n",
      "Train Epoch: 9 [12000/60000 (20%)]\tLoss: 1.515582\n",
      "Train Epoch: 9 [14000/60000 (23%)]\tLoss: 1.531976\n",
      "Train Epoch: 9 [16000/60000 (27%)]\tLoss: 1.523982\n",
      "Train Epoch: 9 [18000/60000 (30%)]\tLoss: 1.496918\n",
      "Train Epoch: 9 [20000/60000 (33%)]\tLoss: 1.557086\n",
      "Train Epoch: 9 [22000/60000 (37%)]\tLoss: 1.519777\n",
      "Train Epoch: 9 [24000/60000 (40%)]\tLoss: 1.551813\n",
      "Train Epoch: 9 [26000/60000 (43%)]\tLoss: 1.509118\n",
      "Train Epoch: 9 [28000/60000 (47%)]\tLoss: 1.509692\n",
      "Train Epoch: 9 [30000/60000 (50%)]\tLoss: 1.566836\n",
      "Train Epoch: 9 [32000/60000 (53%)]\tLoss: 1.533360\n",
      "Train Epoch: 9 [34000/60000 (57%)]\tLoss: 1.506738\n",
      "Train Epoch: 9 [36000/60000 (60%)]\tLoss: 1.549911\n",
      "Train Epoch: 9 [38000/60000 (63%)]\tLoss: 1.510208\n",
      "Train Epoch: 9 [40000/60000 (67%)]\tLoss: 1.520489\n",
      "Train Epoch: 9 [42000/60000 (70%)]\tLoss: 1.545267\n",
      "Train Epoch: 9 [44000/60000 (73%)]\tLoss: 1.533449\n",
      "Train Epoch: 9 [46000/60000 (77%)]\tLoss: 1.548311\n",
      "Train Epoch: 9 [48000/60000 (80%)]\tLoss: 1.504967\n",
      "Train Epoch: 9 [50000/60000 (83%)]\tLoss: 1.516163\n",
      "Train Epoch: 9 [52000/60000 (87%)]\tLoss: 1.543177\n",
      "Train Epoch: 9 [54000/60000 (90%)]\tLoss: 1.549666\n",
      "Train Epoch: 9 [56000/60000 (93%)]\tLoss: 1.505955\n",
      "Train Epoch: 9 [58000/60000 (97%)]\tLoss: 1.492073\n",
      "\n",
      "Test set: Average loss: 0.0149, Accuracy 9740/10000 (97%\n",
      ")\n",
      "Train Epoch: 10 [0/60000 (0%)]\tLoss: 1.493024\n",
      "Train Epoch: 10 [2000/60000 (3%)]\tLoss: 1.497097\n",
      "Train Epoch: 10 [4000/60000 (7%)]\tLoss: 1.524695\n",
      "Train Epoch: 10 [6000/60000 (10%)]\tLoss: 1.558577\n",
      "Train Epoch: 10 [8000/60000 (13%)]\tLoss: 1.539217\n",
      "Train Epoch: 10 [10000/60000 (17%)]\tLoss: 1.491498\n",
      "Train Epoch: 10 [12000/60000 (20%)]\tLoss: 1.507712\n",
      "Train Epoch: 10 [14000/60000 (23%)]\tLoss: 1.521348\n",
      "Train Epoch: 10 [16000/60000 (27%)]\tLoss: 1.533441\n",
      "Train Epoch: 10 [18000/60000 (30%)]\tLoss: 1.510966\n",
      "Train Epoch: 10 [20000/60000 (33%)]\tLoss: 1.503825\n",
      "Train Epoch: 10 [22000/60000 (37%)]\tLoss: 1.509051\n",
      "Train Epoch: 10 [24000/60000 (40%)]\tLoss: 1.487459\n",
      "Train Epoch: 10 [26000/60000 (43%)]\tLoss: 1.528348\n",
      "Train Epoch: 10 [28000/60000 (47%)]\tLoss: 1.484481\n",
      "Train Epoch: 10 [30000/60000 (50%)]\tLoss: 1.481414\n",
      "Train Epoch: 10 [32000/60000 (53%)]\tLoss: 1.533140\n",
      "Train Epoch: 10 [34000/60000 (57%)]\tLoss: 1.518553\n",
      "Train Epoch: 10 [36000/60000 (60%)]\tLoss: 1.492940\n",
      "Train Epoch: 10 [38000/60000 (63%)]\tLoss: 1.506276\n",
      "Train Epoch: 10 [40000/60000 (67%)]\tLoss: 1.497554\n",
      "Train Epoch: 10 [42000/60000 (70%)]\tLoss: 1.511875\n",
      "Train Epoch: 10 [44000/60000 (73%)]\tLoss: 1.537396\n",
      "Train Epoch: 10 [46000/60000 (77%)]\tLoss: 1.507045\n",
      "Train Epoch: 10 [48000/60000 (80%)]\tLoss: 1.491661\n",
      "Train Epoch: 10 [50000/60000 (83%)]\tLoss: 1.528981\n",
      "Train Epoch: 10 [52000/60000 (87%)]\tLoss: 1.536300\n",
      "Train Epoch: 10 [54000/60000 (90%)]\tLoss: 1.481367\n",
      "Train Epoch: 10 [56000/60000 (93%)]\tLoss: 1.542975\n",
      "Train Epoch: 10 [58000/60000 (97%)]\tLoss: 1.503458\n",
      "\n",
      "Test set: Average loss: 0.0149, Accuracy 9761/10000 (98%\n",
      ")\n"
     ]
    }
   ],
   "source": [
    "for epoch in range(1, 11):\n",
    "    train(epoch)\n",
    "    test()\n",
    "    "
   ]
  },
  {
   "cell_type": "code",
   "execution_count": 26,
   "metadata": {},
   "outputs": [
    {
     "data": {
      "text/plain": [
       "device(type='cuda')"
      ]
     },
     "execution_count": 26,
     "metadata": {},
     "output_type": "execute_result"
    }
   ],
   "source": [
    "device"
   ]
  },
  {
   "cell_type": "code",
   "execution_count": 37,
   "metadata": {},
   "outputs": [
    {
     "name": "stdout",
     "output_type": "stream",
     "text": [
      "Prediction: 5\n"
     ]
    },
    {
     "name": "stderr",
     "output_type": "stream",
     "text": [
      "C:\\Users\\Anay\\AppData\\Local\\Temp\\ipykernel_7428\\785090135.py:22: UserWarning: Implicit dimension choice for softmax has been deprecated. Change the call to include dim=X as an argument.\n",
      "  return F.softmax(x)\n"
     ]
    },
    {
     "data": {
      "image/png": "[encoded data removed]",
      "text/plain": [
       "<Figure size 640x480 with 1 Axes>"
      ]
     },
     "metadata": {},
     "output_type": "display_data"
    },
    {
     "name": "stdout",
     "output_type": "stream",
     "text": [
      "Prediction: 6\n"
     ]
    },
    {
     "data": {
      "image/png": "[encoded data removed]",
      "text/plain": [
       "<Figure size 640x480 with 1 Axes>"
      ]
     },
     "metadata": {},
     "output_type": "display_data"
    },
    {
     "name": "stdout",
     "output_type": "stream",
     "text": [
      "Prediction: 0\n"
     ]
    },
    {
     "data": {
      "image/png": "[encoded data removed]",
      "text/plain": [
       "<Figure size 640x480 with 1 Axes>"
      ]
     },
     "metadata": {},
     "output_type": "display_data"
    },
    {
     "name": "stdout",
     "output_type": "stream",
     "text": [
      "Prediction: 7\n"
     ]
    },
    {
     "data": {
      "image/png": "[encoded data removed]",
      "text/plain": [
       "<Figure size 640x480 with 1 Axes>"
      ]
     },
     "metadata": {},
     "output_type": "display_data"
    },
    {
     "name": "stdout",
     "output_type": "stream",
     "text": [
      "Prediction: 8\n"
     ]
    },
    {
     "data": {
      "image/png": "[encoded data removed]",
      "text/plain": [
       "<Figure size 640x480 with 1 Axes>"
      ]
     },
     "metadata": {},
     "output_type": "display_data"
    },
    {
     "name": "stdout",
     "output_type": "stream",
     "text": [
      "Prediction: 1\n"
     ]
    },
    {
     "data": {
      "image/png": "[encoded data removed]",
      "text/plain": [
       "<Figure size 640x480 with 1 Axes>"
      ]
     },
     "metadata": {},
     "output_type": "display_data"
    },
    {
     "name": "stdout",
     "output_type": "stream",
     "text": [
      "Prediction: 7\n"
     ]
    },
    {
     "data": {
      "image/png": "[encoded data removed]",
      "text/plain": [
       "<Figure size 640x480 with 1 Axes>"
      ]
     },
     "metadata": {},
     "output_type": "display_data"
    },
    {
     "name": "stdout",
     "output_type": "stream",
     "text": [
      "Prediction: 9\n"
     ]
    },
    {
     "data": {
      "image/png": "[encoded data removed]",
      "text/plain": [
       "<Figure size 640x480 with 1 Axes>"
      ]
     },
     "metadata": {},
     "output_type": "display_data"
    },
    {
     "name": "stdout",
     "output_type": "stream",
     "text": [
      "Prediction: 9\n"
     ]
    },
    {
     "data": {
      "image/png": "[encoded data removed]",
      "text/plain": [
       "<Figure size 640x480 with 1 Axes>"
      ]
     },
     "metadata": {},
     "output_type": "display_data"
    },
    {
     "name": "stdout",
     "output_type": "stream",
     "text": [
      "Prediction: 2\n"
     ]
    },
    {
     "data": {
      "image/png": "[encoded data removed]",
      "text/plain": [
       "<Figure size 640x480 with 1 Axes>"
      ]
     },
     "metadata": {},
     "output_type": "display_data"
    },
    {
     "name": "stdout",
     "output_type": "stream",
     "text": [
      "Prediction: 9\n"
     ]
    },
    {
     "data": {
      "image/png": "[encoded data removed]",
      "text/plain": [
       "<Figure size 640x480 with 1 Axes>"
      ]
     },
     "metadata": {},
     "output_type": "display_data"
    },
    {
     "name": "stdout",
     "output_type": "stream",
     "text": [
      "Prediction: 7\n"
     ]
    },
    {
     "data": {
      "image/png": "[encoded data removed]",
      "text/plain": [
       "<Figure size 640x480 with 1 Axes>"
      ]
     },
     "metadata": {},
     "output_type": "display_data"
    },
    {
     "name": "stdout",
     "output_type": "stream",
     "text": [
      "Prediction: 2\n"
     ]
    },
    {
     "data": {
      "image/png": "[encoded data removed]",
      "text/plain": [
       "<Figure size 640x480 with 1 Axes>"
      ]
     },
     "metadata": {},
     "output_type": "display_data"
    },
    {
     "name": "stdout",
     "output_type": "stream",
     "text": [
      "Prediction: 7\n"
     ]
    },
    {
     "data": {
      "image/png": "[encoded data removed]",
      "text/plain": [
       "<Figure size 640x480 with 1 Axes>"
      ]
     },
     "metadata": {},
     "output_type": "display_data"
    },
    {
     "name": "stdout",
     "output_type": "stream",
     "text": [
      "Prediction: 2\n"
     ]
    },
    {
     "data": {
      "image/png": "[encoded data removed]",
      "text/plain": [
       "<Figure size 640x480 with 1 Axes>"
      ]
     },
     "metadata": {},
     "output_type": "display_data"
    },
    {
     "name": "stdout",
     "output_type": "stream",
     "text": [
      "Prediction: 2\n"
     ]
    },
    {
     "data": {
      "image/png": "[encoded data removed]",
      "text/plain": [
       "<Figure size 640x480 with 1 Axes>"
      ]
     },
     "metadata": {},
     "output_type": "display_data"
    },
    {
     "name": "stdout",
     "output_type": "stream",
     "text": [
      "Prediction: 5\n"
     ]
    },
    {
     "data": {
      "image/png": "[encoded data removed]",
      "text/plain": [
       "<Figure size 640x480 with 1 Axes>"
      ]
     },
     "metadata": {},
     "output_type": "display_data"
    },
    {
     "name": "stdout",
     "output_type": "stream",
     "text": [
      "Prediction: 8\n"
     ]
    },
    {
     "data": {
      "image/png": "[encoded data removed]",
      "text/plain": [
       "<Figure size 640x480 with 1 Axes>"
      ]
     },
     "metadata": {},
     "output_type": "display_data"
    },
    {
     "name": "stdout",
     "output_type": "stream",
     "text": [
      "Prediction: 3\n"
     ]
    },
    {
     "data": {
      "image/png": "[encoded data removed]",
      "text/plain": [
       "<Figure size 640x480 with 1 Axes>"
      ]
     },
     "metadata": {},
     "output_type": "display_data"
    },
    {
     "name": "stdout",
     "output_type": "stream",
     "text": [
      "Prediction: 7\n"
     ]
    },
    {
     "data": {
      "image/png": "[encoded data removed]",
      "text/plain": [
       "<Figure size 640x480 with 1 Axes>"
      ]
     },
     "metadata": {},
     "output_type": "display_data"
    }
   ],
   "source": [
    "import matplotlib.pyplot as plt\n",
    "import random\n",
    "\n",
    "def main():\n",
    "    \n",
    "    for i in random.sample(range (0, len(test_data)), 20):\n",
    "        model.eval()\n",
    "        data, target = test_data[i]\n",
    "        data = data.unsqueeze(0).to(device)\n",
    "        output = model(data)\n",
    "        prediction  = output.argmax(dim=1, keepdim=True).item()\n",
    "        print(f\"Prediction: {prediction}\")\n",
    "        image = data.squeeze(0).squeeze(0).cpu().numpy()\n",
    "        plt.imshow(image, cmap = 'grey')\n",
    "        plt.show()\n",
    "\n",
    "main()"
   ]
  },
  {
   "cell_type": "code",
   "execution_count": null,
   "metadata": {},
   "outputs": [],
   "source": []
  }
 ],
 "metadata": {
  "kernelspec": {
   "display_name": "base",
   "language": "python",
   "name": "python3"
  },
  "language_info": {
   "codemirror_mode": {
    "name": "ipython",
    "version": 3
   },
   "file_extension": ".py",
   "mimetype": "text/x-python",
   "name": "python",
   "nbconvert_exporter": "python",
   "pygments_lexer": "ipython3",
   "version": "3.11.7"
  }
 },
 "nbformat": 4,
 "nbformat_minor": 2
}
